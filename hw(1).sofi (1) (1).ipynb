{
 "cells": [
  {
   "cell_type": "markdown",
   "metadata": {},
   "source": [
    "# Identify:\n",
    "\n",
    "Please fill-in your ID in the following cell, **only id numbers, no names!**\n"
   ]
  },
  {
   "cell_type": "code",
   "execution_count": 1,
   "metadata": {},
   "outputs": [],
   "source": [
    "import pandas as pd"
   ]
  },
  {
   "cell_type": "code",
   "execution_count": 2,
   "metadata": {},
   "outputs": [],
   "source": [
    "id1 = \"211695234\""
   ]
  },
  {
   "cell_type": "code",
   "execution_count": 3,
   "metadata": {},
   "outputs": [],
   "source": [
    "df = pd.DataFrame([id1])"
   ]
  },
  {
   "cell_type": "markdown",
   "metadata": {},
   "source": [
    "Uncomment in case two students are doing the assignment together:"
   ]
  },
  {
   "cell_type": "raw",
   "metadata": {},
   "source": [
    "#df = pd.DataFrame([id1,id2])"
   ]
  },
  {
   "cell_type": "code",
   "execution_count": 4,
   "metadata": {},
   "outputs": [
    {
     "ename": "PyperclipException",
     "evalue": "\n    Pyperclip could not find a copy/paste mechanism for your system.\n    For more information, please visit\n    https://pyperclip.readthedocs.io/en/latest/introduction.html#not-implemented-error\n    ",
     "output_type": "error",
     "traceback": [
      "\u001b[0;31m---------------------------------------------------------------------------\u001b[0m",
      "\u001b[0;31mPyperclipException\u001b[0m                        Traceback (most recent call last)",
      "\u001b[0;32m<ipython-input-4-0443b8fc6ba7>\u001b[0m in \u001b[0;36m<module>\u001b[0;34m\u001b[0m\n\u001b[0;32m----> 1\u001b[0;31m \u001b[0mdf\u001b[0m\u001b[0;34m.\u001b[0m\u001b[0mto_clipboard\u001b[0m\u001b[0;34m(\u001b[0m\u001b[0mindex\u001b[0m\u001b[0;34m=\u001b[0m\u001b[0;32mFalse\u001b[0m\u001b[0;34m,\u001b[0m\u001b[0mheader\u001b[0m\u001b[0;34m=\u001b[0m\u001b[0;32mFalse\u001b[0m\u001b[0;34m)\u001b[0m\u001b[0;34m\u001b[0m\u001b[0;34m\u001b[0m\u001b[0m\n\u001b[0m",
      "\u001b[0;32m/srv/conda/envs/notebook/lib/python3.7/site-packages/pandas/core/generic.py\u001b[0m in \u001b[0;36mto_clipboard\u001b[0;34m(self, excel, sep, **kwargs)\u001b[0m\n\u001b[1;32m   2929\u001b[0m         \u001b[0;32mfrom\u001b[0m \u001b[0mpandas\u001b[0m\u001b[0;34m.\u001b[0m\u001b[0mio\u001b[0m \u001b[0;32mimport\u001b[0m \u001b[0mclipboards\u001b[0m\u001b[0;34m\u001b[0m\u001b[0;34m\u001b[0m\u001b[0m\n\u001b[1;32m   2930\u001b[0m \u001b[0;34m\u001b[0m\u001b[0m\n\u001b[0;32m-> 2931\u001b[0;31m         \u001b[0mclipboards\u001b[0m\u001b[0;34m.\u001b[0m\u001b[0mto_clipboard\u001b[0m\u001b[0;34m(\u001b[0m\u001b[0mself\u001b[0m\u001b[0;34m,\u001b[0m \u001b[0mexcel\u001b[0m\u001b[0;34m=\u001b[0m\u001b[0mexcel\u001b[0m\u001b[0;34m,\u001b[0m \u001b[0msep\u001b[0m\u001b[0;34m=\u001b[0m\u001b[0msep\u001b[0m\u001b[0;34m,\u001b[0m \u001b[0;34m**\u001b[0m\u001b[0mkwargs\u001b[0m\u001b[0;34m)\u001b[0m\u001b[0;34m\u001b[0m\u001b[0;34m\u001b[0m\u001b[0m\n\u001b[0m\u001b[1;32m   2932\u001b[0m \u001b[0;34m\u001b[0m\u001b[0m\n\u001b[1;32m   2933\u001b[0m     \u001b[0;34m@\u001b[0m\u001b[0mfinal\u001b[0m\u001b[0;34m\u001b[0m\u001b[0;34m\u001b[0m\u001b[0m\n",
      "\u001b[0;32m/srv/conda/envs/notebook/lib/python3.7/site-packages/pandas/io/clipboards.py\u001b[0m in \u001b[0;36mto_clipboard\u001b[0;34m(obj, excel, sep, **kwargs)\u001b[0m\n\u001b[1;32m    120\u001b[0m             \u001b[0mtext\u001b[0m \u001b[0;34m=\u001b[0m \u001b[0mbuf\u001b[0m\u001b[0;34m.\u001b[0m\u001b[0mgetvalue\u001b[0m\u001b[0;34m(\u001b[0m\u001b[0;34m)\u001b[0m\u001b[0;34m\u001b[0m\u001b[0;34m\u001b[0m\u001b[0m\n\u001b[1;32m    121\u001b[0m \u001b[0;34m\u001b[0m\u001b[0m\n\u001b[0;32m--> 122\u001b[0;31m             \u001b[0mclipboard_set\u001b[0m\u001b[0;34m(\u001b[0m\u001b[0mtext\u001b[0m\u001b[0;34m)\u001b[0m\u001b[0;34m\u001b[0m\u001b[0;34m\u001b[0m\u001b[0m\n\u001b[0m\u001b[1;32m    123\u001b[0m             \u001b[0;32mreturn\u001b[0m\u001b[0;34m\u001b[0m\u001b[0;34m\u001b[0m\u001b[0m\n\u001b[1;32m    124\u001b[0m         \u001b[0;32mexcept\u001b[0m \u001b[0mTypeError\u001b[0m\u001b[0;34m:\u001b[0m\u001b[0;34m\u001b[0m\u001b[0;34m\u001b[0m\u001b[0m\n",
      "\u001b[0;32m/srv/conda/envs/notebook/lib/python3.7/site-packages/pandas/io/clipboard/__init__.py\u001b[0m in \u001b[0;36mlazy_load_stub_copy\u001b[0;34m(text)\u001b[0m\n\u001b[1;32m    625\u001b[0m     \u001b[0;32mglobal\u001b[0m \u001b[0mcopy\u001b[0m\u001b[0;34m,\u001b[0m \u001b[0mpaste\u001b[0m\u001b[0;34m\u001b[0m\u001b[0;34m\u001b[0m\u001b[0m\n\u001b[1;32m    626\u001b[0m     \u001b[0mcopy\u001b[0m\u001b[0;34m,\u001b[0m \u001b[0mpaste\u001b[0m \u001b[0;34m=\u001b[0m \u001b[0mdetermine_clipboard\u001b[0m\u001b[0;34m(\u001b[0m\u001b[0;34m)\u001b[0m\u001b[0;34m\u001b[0m\u001b[0;34m\u001b[0m\u001b[0m\n\u001b[0;32m--> 627\u001b[0;31m     \u001b[0;32mreturn\u001b[0m \u001b[0mcopy\u001b[0m\u001b[0;34m(\u001b[0m\u001b[0mtext\u001b[0m\u001b[0;34m)\u001b[0m\u001b[0;34m\u001b[0m\u001b[0;34m\u001b[0m\u001b[0m\n\u001b[0m\u001b[1;32m    628\u001b[0m \u001b[0;34m\u001b[0m\u001b[0m\n\u001b[1;32m    629\u001b[0m \u001b[0;34m\u001b[0m\u001b[0m\n",
      "\u001b[0;32m/srv/conda/envs/notebook/lib/python3.7/site-packages/pandas/io/clipboard/__init__.py\u001b[0m in \u001b[0;36m__call__\u001b[0;34m(self, *args, **kwargs)\u001b[0m\n\u001b[1;32m    285\u001b[0m     \u001b[0;32mclass\u001b[0m \u001b[0mClipboardUnavailable\u001b[0m\u001b[0;34m:\u001b[0m\u001b[0;34m\u001b[0m\u001b[0;34m\u001b[0m\u001b[0m\n\u001b[1;32m    286\u001b[0m         \u001b[0;32mdef\u001b[0m \u001b[0m__call__\u001b[0m\u001b[0;34m(\u001b[0m\u001b[0mself\u001b[0m\u001b[0;34m,\u001b[0m \u001b[0;34m*\u001b[0m\u001b[0margs\u001b[0m\u001b[0;34m,\u001b[0m \u001b[0;34m**\u001b[0m\u001b[0mkwargs\u001b[0m\u001b[0;34m)\u001b[0m\u001b[0;34m:\u001b[0m\u001b[0;34m\u001b[0m\u001b[0;34m\u001b[0m\u001b[0m\n\u001b[0;32m--> 287\u001b[0;31m             \u001b[0;32mraise\u001b[0m \u001b[0mPyperclipException\u001b[0m\u001b[0;34m(\u001b[0m\u001b[0mEXCEPT_MSG\u001b[0m\u001b[0;34m)\u001b[0m\u001b[0;34m\u001b[0m\u001b[0;34m\u001b[0m\u001b[0m\n\u001b[0m\u001b[1;32m    288\u001b[0m \u001b[0;34m\u001b[0m\u001b[0m\n\u001b[1;32m    289\u001b[0m         \u001b[0;32mdef\u001b[0m \u001b[0m__bool__\u001b[0m\u001b[0;34m(\u001b[0m\u001b[0mself\u001b[0m\u001b[0;34m)\u001b[0m \u001b[0;34m->\u001b[0m \u001b[0mbool\u001b[0m\u001b[0;34m:\u001b[0m\u001b[0;34m\u001b[0m\u001b[0;34m\u001b[0m\u001b[0m\n",
      "\u001b[0;31mPyperclipException\u001b[0m: \n    Pyperclip could not find a copy/paste mechanism for your system.\n    For more information, please visit\n    https://pyperclip.readthedocs.io/en/latest/introduction.html#not-implemented-error\n    "
     ]
    }
   ],
   "source": [
    "df.to_clipboard(index=False,header=False)"
   ]
  },
  {
   "cell_type": "markdown",
   "metadata": {},
   "source": [
    "Please fill your names here: Maayan Elkarif"
   ]
  },
  {
   "cell_type": "markdown",
   "metadata": {},
   "source": []
  },
  {
   "cell_type": "markdown",
   "metadata": {},
   "source": [
    "---"
   ]
  },
  {
   "cell_type": "markdown",
   "metadata": {},
   "source": [
    "----"
   ]
  },
  {
   "cell_type": "markdown",
   "metadata": {},
   "source": [
    "# Write your answers here\n",
    "\n",
    "add as much lines of code and markdown as you need for each answer"
   ]
  },
  {
   "cell_type": "markdown",
   "metadata": {},
   "source": [
    "# Q1 "
   ]
  },
  {
   "cell_type": "code",
   "execution_count": 5,
   "metadata": {},
   "outputs": [],
   "source": [
    "url = 'https://raw.githubusercontent.com/owid/covid-19-data/master/public/data/vaccinations/vaccinations.csv'\n",
    "vacc_df = pd.read_csv(url)"
   ]
  },
  {
   "cell_type": "code",
   "execution_count": 6,
   "metadata": {},
   "outputs": [
    {
     "data": {
      "text/html": [
       "<div>\n",
       "<style scoped>\n",
       "    .dataframe tbody tr th:only-of-type {\n",
       "        vertical-align: middle;\n",
       "    }\n",
       "\n",
       "    .dataframe tbody tr th {\n",
       "        vertical-align: top;\n",
       "    }\n",
       "\n",
       "    .dataframe thead th {\n",
       "        text-align: right;\n",
       "    }\n",
       "</style>\n",
       "<table border=\"1\" class=\"dataframe\">\n",
       "  <thead>\n",
       "    <tr style=\"text-align: right;\">\n",
       "      <th></th>\n",
       "      <th>location</th>\n",
       "      <th>iso_code</th>\n",
       "      <th>date</th>\n",
       "      <th>total_vaccinations</th>\n",
       "      <th>people_vaccinated</th>\n",
       "      <th>people_fully_vaccinated</th>\n",
       "      <th>daily_vaccinations_raw</th>\n",
       "      <th>daily_vaccinations</th>\n",
       "      <th>total_vaccinations_per_hundred</th>\n",
       "      <th>people_vaccinated_per_hundred</th>\n",
       "      <th>people_fully_vaccinated_per_hundred</th>\n",
       "      <th>daily_vaccinations_per_million</th>\n",
       "    </tr>\n",
       "  </thead>\n",
       "  <tbody>\n",
       "    <tr>\n",
       "      <th>38</th>\n",
       "      <td>Afghanistan</td>\n",
       "      <td>AFG</td>\n",
       "      <td>2021-04-01</td>\n",
       "      <td>NaN</td>\n",
       "      <td>NaN</td>\n",
       "      <td>NaN</td>\n",
       "      <td>NaN</td>\n",
       "      <td>3000.0</td>\n",
       "      <td>NaN</td>\n",
       "      <td>NaN</td>\n",
       "      <td>NaN</td>\n",
       "      <td>77.0</td>\n",
       "    </tr>\n",
       "    <tr>\n",
       "      <th>39</th>\n",
       "      <td>Afghanistan</td>\n",
       "      <td>AFG</td>\n",
       "      <td>2021-04-02</td>\n",
       "      <td>NaN</td>\n",
       "      <td>NaN</td>\n",
       "      <td>NaN</td>\n",
       "      <td>NaN</td>\n",
       "      <td>3000.0</td>\n",
       "      <td>NaN</td>\n",
       "      <td>NaN</td>\n",
       "      <td>NaN</td>\n",
       "      <td>77.0</td>\n",
       "    </tr>\n",
       "    <tr>\n",
       "      <th>40</th>\n",
       "      <td>Afghanistan</td>\n",
       "      <td>AFG</td>\n",
       "      <td>2021-04-03</td>\n",
       "      <td>NaN</td>\n",
       "      <td>NaN</td>\n",
       "      <td>NaN</td>\n",
       "      <td>NaN</td>\n",
       "      <td>3000.0</td>\n",
       "      <td>NaN</td>\n",
       "      <td>NaN</td>\n",
       "      <td>NaN</td>\n",
       "      <td>77.0</td>\n",
       "    </tr>\n",
       "    <tr>\n",
       "      <th>41</th>\n",
       "      <td>Afghanistan</td>\n",
       "      <td>AFG</td>\n",
       "      <td>2021-04-04</td>\n",
       "      <td>NaN</td>\n",
       "      <td>NaN</td>\n",
       "      <td>NaN</td>\n",
       "      <td>NaN</td>\n",
       "      <td>3000.0</td>\n",
       "      <td>NaN</td>\n",
       "      <td>NaN</td>\n",
       "      <td>NaN</td>\n",
       "      <td>77.0</td>\n",
       "    </tr>\n",
       "    <tr>\n",
       "      <th>42</th>\n",
       "      <td>Afghanistan</td>\n",
       "      <td>AFG</td>\n",
       "      <td>2021-04-05</td>\n",
       "      <td>NaN</td>\n",
       "      <td>NaN</td>\n",
       "      <td>NaN</td>\n",
       "      <td>NaN</td>\n",
       "      <td>3000.0</td>\n",
       "      <td>NaN</td>\n",
       "      <td>NaN</td>\n",
       "      <td>NaN</td>\n",
       "      <td>77.0</td>\n",
       "    </tr>\n",
       "    <tr>\n",
       "      <th>...</th>\n",
       "      <td>...</td>\n",
       "      <td>...</td>\n",
       "      <td>...</td>\n",
       "      <td>...</td>\n",
       "      <td>...</td>\n",
       "      <td>...</td>\n",
       "      <td>...</td>\n",
       "      <td>...</td>\n",
       "      <td>...</td>\n",
       "      <td>...</td>\n",
       "      <td>...</td>\n",
       "      <td>...</td>\n",
       "    </tr>\n",
       "    <tr>\n",
       "      <th>38684</th>\n",
       "      <td>Zimbabwe</td>\n",
       "      <td>ZWE</td>\n",
       "      <td>2021-04-26</td>\n",
       "      <td>411610.0</td>\n",
       "      <td>353834.0</td>\n",
       "      <td>57776.0</td>\n",
       "      <td>21592.0</td>\n",
       "      <td>13517.0</td>\n",
       "      <td>2.77</td>\n",
       "      <td>2.38</td>\n",
       "      <td>0.39</td>\n",
       "      <td>909.0</td>\n",
       "    </tr>\n",
       "    <tr>\n",
       "      <th>38685</th>\n",
       "      <td>Zimbabwe</td>\n",
       "      <td>ZWE</td>\n",
       "      <td>2021-04-27</td>\n",
       "      <td>433939.0</td>\n",
       "      <td>370676.0</td>\n",
       "      <td>63263.0</td>\n",
       "      <td>22329.0</td>\n",
       "      <td>15562.0</td>\n",
       "      <td>2.92</td>\n",
       "      <td>2.49</td>\n",
       "      <td>0.43</td>\n",
       "      <td>1047.0</td>\n",
       "    </tr>\n",
       "    <tr>\n",
       "      <th>38686</th>\n",
       "      <td>Zimbabwe</td>\n",
       "      <td>ZWE</td>\n",
       "      <td>2021-04-28</td>\n",
       "      <td>458013.0</td>\n",
       "      <td>388021.0</td>\n",
       "      <td>69992.0</td>\n",
       "      <td>24074.0</td>\n",
       "      <td>17860.0</td>\n",
       "      <td>3.08</td>\n",
       "      <td>2.61</td>\n",
       "      <td>0.47</td>\n",
       "      <td>1202.0</td>\n",
       "    </tr>\n",
       "    <tr>\n",
       "      <th>38687</th>\n",
       "      <td>Zimbabwe</td>\n",
       "      <td>ZWE</td>\n",
       "      <td>2021-04-29</td>\n",
       "      <td>477597.0</td>\n",
       "      <td>400771.0</td>\n",
       "      <td>76826.0</td>\n",
       "      <td>19584.0</td>\n",
       "      <td>17971.0</td>\n",
       "      <td>3.21</td>\n",
       "      <td>2.70</td>\n",
       "      <td>0.52</td>\n",
       "      <td>1209.0</td>\n",
       "    </tr>\n",
       "    <tr>\n",
       "      <th>38688</th>\n",
       "      <td>Zimbabwe</td>\n",
       "      <td>ZWE</td>\n",
       "      <td>2021-04-30</td>\n",
       "      <td>500342.0</td>\n",
       "      <td>414735.0</td>\n",
       "      <td>85607.0</td>\n",
       "      <td>22745.0</td>\n",
       "      <td>19194.0</td>\n",
       "      <td>3.37</td>\n",
       "      <td>2.79</td>\n",
       "      <td>0.58</td>\n",
       "      <td>1291.0</td>\n",
       "    </tr>\n",
       "  </tbody>\n",
       "</table>\n",
       "<p>6118 rows × 12 columns</p>\n",
       "</div>"
      ],
      "text/plain": [
       "          location iso_code       date  total_vaccinations  people_vaccinated  \\\n",
       "38     Afghanistan      AFG 2021-04-01                 NaN                NaN   \n",
       "39     Afghanistan      AFG 2021-04-02                 NaN                NaN   \n",
       "40     Afghanistan      AFG 2021-04-03                 NaN                NaN   \n",
       "41     Afghanistan      AFG 2021-04-04                 NaN                NaN   \n",
       "42     Afghanistan      AFG 2021-04-05                 NaN                NaN   \n",
       "...            ...      ...        ...                 ...                ...   \n",
       "38684     Zimbabwe      ZWE 2021-04-26            411610.0           353834.0   \n",
       "38685     Zimbabwe      ZWE 2021-04-27            433939.0           370676.0   \n",
       "38686     Zimbabwe      ZWE 2021-04-28            458013.0           388021.0   \n",
       "38687     Zimbabwe      ZWE 2021-04-29            477597.0           400771.0   \n",
       "38688     Zimbabwe      ZWE 2021-04-30            500342.0           414735.0   \n",
       "\n",
       "       people_fully_vaccinated  daily_vaccinations_raw  daily_vaccinations  \\\n",
       "38                         NaN                     NaN              3000.0   \n",
       "39                         NaN                     NaN              3000.0   \n",
       "40                         NaN                     NaN              3000.0   \n",
       "41                         NaN                     NaN              3000.0   \n",
       "42                         NaN                     NaN              3000.0   \n",
       "...                        ...                     ...                 ...   \n",
       "38684                  57776.0                 21592.0             13517.0   \n",
       "38685                  63263.0                 22329.0             15562.0   \n",
       "38686                  69992.0                 24074.0             17860.0   \n",
       "38687                  76826.0                 19584.0             17971.0   \n",
       "38688                  85607.0                 22745.0             19194.0   \n",
       "\n",
       "       total_vaccinations_per_hundred  people_vaccinated_per_hundred  \\\n",
       "38                                NaN                            NaN   \n",
       "39                                NaN                            NaN   \n",
       "40                                NaN                            NaN   \n",
       "41                                NaN                            NaN   \n",
       "42                                NaN                            NaN   \n",
       "...                               ...                            ...   \n",
       "38684                            2.77                           2.38   \n",
       "38685                            2.92                           2.49   \n",
       "38686                            3.08                           2.61   \n",
       "38687                            3.21                           2.70   \n",
       "38688                            3.37                           2.79   \n",
       "\n",
       "       people_fully_vaccinated_per_hundred  daily_vaccinations_per_million  \n",
       "38                                     NaN                            77.0  \n",
       "39                                     NaN                            77.0  \n",
       "40                                     NaN                            77.0  \n",
       "41                                     NaN                            77.0  \n",
       "42                                     NaN                            77.0  \n",
       "...                                    ...                             ...  \n",
       "38684                                 0.39                           909.0  \n",
       "38685                                 0.43                          1047.0  \n",
       "38686                                 0.47                          1202.0  \n",
       "38687                                 0.52                          1209.0  \n",
       "38688                                 0.58                          1291.0  \n",
       "\n",
       "[6118 rows x 12 columns]"
      ]
     },
     "execution_count": 6,
     "metadata": {},
     "output_type": "execute_result"
    }
   ],
   "source": [
    "vacc_df['date'] = pd.to_datetime(vacc_df['date'])\n",
    "month = (vacc_df['date'].dt.month_name()== 'April')\n",
    "my_month = vacc_df [month].copy()\n",
    "my_month\n",
    "#vacc_df['month'] = pd.DatetimeIndex(vacc_df['date']).month"
   ]
  },
  {
   "cell_type": "code",
   "execution_count": 7,
   "metadata": {},
   "outputs": [
    {
     "data": {
      "text/plain": [
       "6118"
      ]
     },
     "execution_count": 7,
     "metadata": {},
     "output_type": "execute_result"
    }
   ],
   "source": [
    "my_month.shape[0]"
   ]
  },
  {
   "cell_type": "markdown",
   "metadata": {},
   "source": [
    "# Q2"
   ]
  },
  {
   "cell_type": "code",
   "execution_count": 8,
   "metadata": {},
   "outputs": [
    {
     "data": {
      "text/html": [
       "<div>\n",
       "<style scoped>\n",
       "    .dataframe tbody tr th:only-of-type {\n",
       "        vertical-align: middle;\n",
       "    }\n",
       "\n",
       "    .dataframe tbody tr th {\n",
       "        vertical-align: top;\n",
       "    }\n",
       "\n",
       "    .dataframe thead th {\n",
       "        text-align: right;\n",
       "    }\n",
       "</style>\n",
       "<table border=\"1\" class=\"dataframe\">\n",
       "  <thead>\n",
       "    <tr style=\"text-align: right;\">\n",
       "      <th></th>\n",
       "      <th>location</th>\n",
       "      <th>iso_code</th>\n",
       "      <th>date</th>\n",
       "      <th>total_vaccinations</th>\n",
       "      <th>people_vaccinated</th>\n",
       "      <th>people_fully_vaccinated</th>\n",
       "      <th>daily_vaccinations_raw</th>\n",
       "      <th>daily_vaccinations</th>\n",
       "      <th>total_vaccinations_per_hundred</th>\n",
       "      <th>people_vaccinated_per_hundred</th>\n",
       "      <th>people_fully_vaccinated_per_hundred</th>\n",
       "      <th>daily_vaccinations_per_million</th>\n",
       "    </tr>\n",
       "  </thead>\n",
       "  <tbody>\n",
       "    <tr>\n",
       "      <th>38</th>\n",
       "      <td>Afghanistan</td>\n",
       "      <td>AFG</td>\n",
       "      <td>2021-04-01</td>\n",
       "      <td>NaN</td>\n",
       "      <td>NaN</td>\n",
       "      <td>NaN</td>\n",
       "      <td>NaN</td>\n",
       "      <td>3000.0</td>\n",
       "      <td>NaN</td>\n",
       "      <td>0.31</td>\n",
       "      <td>NaN</td>\n",
       "      <td>77.0</td>\n",
       "    </tr>\n",
       "    <tr>\n",
       "      <th>39</th>\n",
       "      <td>Afghanistan</td>\n",
       "      <td>AFG</td>\n",
       "      <td>2021-04-02</td>\n",
       "      <td>NaN</td>\n",
       "      <td>NaN</td>\n",
       "      <td>NaN</td>\n",
       "      <td>NaN</td>\n",
       "      <td>3000.0</td>\n",
       "      <td>NaN</td>\n",
       "      <td>0.31</td>\n",
       "      <td>NaN</td>\n",
       "      <td>77.0</td>\n",
       "    </tr>\n",
       "    <tr>\n",
       "      <th>40</th>\n",
       "      <td>Afghanistan</td>\n",
       "      <td>AFG</td>\n",
       "      <td>2021-04-03</td>\n",
       "      <td>NaN</td>\n",
       "      <td>NaN</td>\n",
       "      <td>NaN</td>\n",
       "      <td>NaN</td>\n",
       "      <td>3000.0</td>\n",
       "      <td>NaN</td>\n",
       "      <td>0.31</td>\n",
       "      <td>NaN</td>\n",
       "      <td>77.0</td>\n",
       "    </tr>\n",
       "    <tr>\n",
       "      <th>41</th>\n",
       "      <td>Afghanistan</td>\n",
       "      <td>AFG</td>\n",
       "      <td>2021-04-04</td>\n",
       "      <td>NaN</td>\n",
       "      <td>NaN</td>\n",
       "      <td>NaN</td>\n",
       "      <td>NaN</td>\n",
       "      <td>3000.0</td>\n",
       "      <td>NaN</td>\n",
       "      <td>0.31</td>\n",
       "      <td>NaN</td>\n",
       "      <td>77.0</td>\n",
       "    </tr>\n",
       "    <tr>\n",
       "      <th>42</th>\n",
       "      <td>Afghanistan</td>\n",
       "      <td>AFG</td>\n",
       "      <td>2021-04-05</td>\n",
       "      <td>NaN</td>\n",
       "      <td>NaN</td>\n",
       "      <td>NaN</td>\n",
       "      <td>NaN</td>\n",
       "      <td>3000.0</td>\n",
       "      <td>NaN</td>\n",
       "      <td>0.31</td>\n",
       "      <td>NaN</td>\n",
       "      <td>77.0</td>\n",
       "    </tr>\n",
       "    <tr>\n",
       "      <th>...</th>\n",
       "      <td>...</td>\n",
       "      <td>...</td>\n",
       "      <td>...</td>\n",
       "      <td>...</td>\n",
       "      <td>...</td>\n",
       "      <td>...</td>\n",
       "      <td>...</td>\n",
       "      <td>...</td>\n",
       "      <td>...</td>\n",
       "      <td>...</td>\n",
       "      <td>...</td>\n",
       "      <td>...</td>\n",
       "    </tr>\n",
       "    <tr>\n",
       "      <th>38684</th>\n",
       "      <td>Zimbabwe</td>\n",
       "      <td>ZWE</td>\n",
       "      <td>2021-04-26</td>\n",
       "      <td>411610.0</td>\n",
       "      <td>353834.0</td>\n",
       "      <td>57776.0</td>\n",
       "      <td>21592.0</td>\n",
       "      <td>13517.0</td>\n",
       "      <td>2.77</td>\n",
       "      <td>2.38</td>\n",
       "      <td>0.39</td>\n",
       "      <td>909.0</td>\n",
       "    </tr>\n",
       "    <tr>\n",
       "      <th>38685</th>\n",
       "      <td>Zimbabwe</td>\n",
       "      <td>ZWE</td>\n",
       "      <td>2021-04-27</td>\n",
       "      <td>433939.0</td>\n",
       "      <td>370676.0</td>\n",
       "      <td>63263.0</td>\n",
       "      <td>22329.0</td>\n",
       "      <td>15562.0</td>\n",
       "      <td>2.92</td>\n",
       "      <td>2.49</td>\n",
       "      <td>0.43</td>\n",
       "      <td>1047.0</td>\n",
       "    </tr>\n",
       "    <tr>\n",
       "      <th>38686</th>\n",
       "      <td>Zimbabwe</td>\n",
       "      <td>ZWE</td>\n",
       "      <td>2021-04-28</td>\n",
       "      <td>458013.0</td>\n",
       "      <td>388021.0</td>\n",
       "      <td>69992.0</td>\n",
       "      <td>24074.0</td>\n",
       "      <td>17860.0</td>\n",
       "      <td>3.08</td>\n",
       "      <td>2.61</td>\n",
       "      <td>0.47</td>\n",
       "      <td>1202.0</td>\n",
       "    </tr>\n",
       "    <tr>\n",
       "      <th>38687</th>\n",
       "      <td>Zimbabwe</td>\n",
       "      <td>ZWE</td>\n",
       "      <td>2021-04-29</td>\n",
       "      <td>477597.0</td>\n",
       "      <td>400771.0</td>\n",
       "      <td>76826.0</td>\n",
       "      <td>19584.0</td>\n",
       "      <td>17971.0</td>\n",
       "      <td>3.21</td>\n",
       "      <td>2.70</td>\n",
       "      <td>0.52</td>\n",
       "      <td>1209.0</td>\n",
       "    </tr>\n",
       "    <tr>\n",
       "      <th>38688</th>\n",
       "      <td>Zimbabwe</td>\n",
       "      <td>ZWE</td>\n",
       "      <td>2021-04-30</td>\n",
       "      <td>500342.0</td>\n",
       "      <td>414735.0</td>\n",
       "      <td>85607.0</td>\n",
       "      <td>22745.0</td>\n",
       "      <td>19194.0</td>\n",
       "      <td>3.37</td>\n",
       "      <td>2.79</td>\n",
       "      <td>0.58</td>\n",
       "      <td>1291.0</td>\n",
       "    </tr>\n",
       "  </tbody>\n",
       "</table>\n",
       "<p>6118 rows × 12 columns</p>\n",
       "</div>"
      ],
      "text/plain": [
       "          location iso_code       date  total_vaccinations  people_vaccinated  \\\n",
       "38     Afghanistan      AFG 2021-04-01                 NaN                NaN   \n",
       "39     Afghanistan      AFG 2021-04-02                 NaN                NaN   \n",
       "40     Afghanistan      AFG 2021-04-03                 NaN                NaN   \n",
       "41     Afghanistan      AFG 2021-04-04                 NaN                NaN   \n",
       "42     Afghanistan      AFG 2021-04-05                 NaN                NaN   \n",
       "...            ...      ...        ...                 ...                ...   \n",
       "38684     Zimbabwe      ZWE 2021-04-26            411610.0           353834.0   \n",
       "38685     Zimbabwe      ZWE 2021-04-27            433939.0           370676.0   \n",
       "38686     Zimbabwe      ZWE 2021-04-28            458013.0           388021.0   \n",
       "38687     Zimbabwe      ZWE 2021-04-29            477597.0           400771.0   \n",
       "38688     Zimbabwe      ZWE 2021-04-30            500342.0           414735.0   \n",
       "\n",
       "       people_fully_vaccinated  daily_vaccinations_raw  daily_vaccinations  \\\n",
       "38                         NaN                     NaN              3000.0   \n",
       "39                         NaN                     NaN              3000.0   \n",
       "40                         NaN                     NaN              3000.0   \n",
       "41                         NaN                     NaN              3000.0   \n",
       "42                         NaN                     NaN              3000.0   \n",
       "...                        ...                     ...                 ...   \n",
       "38684                  57776.0                 21592.0             13517.0   \n",
       "38685                  63263.0                 22329.0             15562.0   \n",
       "38686                  69992.0                 24074.0             17860.0   \n",
       "38687                  76826.0                 19584.0             17971.0   \n",
       "38688                  85607.0                 22745.0             19194.0   \n",
       "\n",
       "       total_vaccinations_per_hundred  people_vaccinated_per_hundred  \\\n",
       "38                                NaN                           0.31   \n",
       "39                                NaN                           0.31   \n",
       "40                                NaN                           0.31   \n",
       "41                                NaN                           0.31   \n",
       "42                                NaN                           0.31   \n",
       "...                               ...                            ...   \n",
       "38684                            2.77                           2.38   \n",
       "38685                            2.92                           2.49   \n",
       "38686                            3.08                           2.61   \n",
       "38687                            3.21                           2.70   \n",
       "38688                            3.37                           2.79   \n",
       "\n",
       "       people_fully_vaccinated_per_hundred  daily_vaccinations_per_million  \n",
       "38                                     NaN                            77.0  \n",
       "39                                     NaN                            77.0  \n",
       "40                                     NaN                            77.0  \n",
       "41                                     NaN                            77.0  \n",
       "42                                     NaN                            77.0  \n",
       "...                                    ...                             ...  \n",
       "38684                                 0.39                           909.0  \n",
       "38685                                 0.43                          1047.0  \n",
       "38686                                 0.47                          1202.0  \n",
       "38687                                 0.52                          1209.0  \n",
       "38688                                 0.58                          1291.0  \n",
       "\n",
       "[6118 rows x 12 columns]"
      ]
     },
     "execution_count": 8,
     "metadata": {},
     "output_type": "execute_result"
    }
   ],
   "source": [
    "vacc_df[['people_vaccinated_per_hundred' , 'daily_vaccinations']] = vacc_df.groupby('location')[['people_vaccinated_per_hundred' , 'daily_vaccinations']].apply(lambda x: x.fillna(method='bfill'))\n",
    "month = (vacc_df['date'].dt.month_name()== 'April')\n",
    "my_month = vacc_df [month].copy()\n",
    "my_month"
   ]
  },
  {
   "cell_type": "code",
   "execution_count": 9,
   "metadata": {},
   "outputs": [
    {
     "data": {
      "text/plain": [
       "2"
      ]
     },
     "execution_count": 9,
     "metadata": {},
     "output_type": "execute_result"
    }
   ],
   "source": [
    "my_month['daily_vaccinations'].isnull().sum()"
   ]
  },
  {
   "cell_type": "markdown",
   "metadata": {},
   "source": [
    "מדוע בחרנו למלא כך את הערכים?\n"
   ]
  },
  {
   "cell_type": "markdown",
   "metadata": {},
   "source": [
    "# Q3"
   ]
  },
  {
   "cell_type": "code",
   "execution_count": 12,
   "metadata": {},
   "outputs": [
    {
     "data": {
      "text/html": [
       "<div>\n",
       "<style scoped>\n",
       "    .dataframe tbody tr th:only-of-type {\n",
       "        vertical-align: middle;\n",
       "    }\n",
       "\n",
       "    .dataframe tbody tr th {\n",
       "        vertical-align: top;\n",
       "    }\n",
       "\n",
       "    .dataframe thead th {\n",
       "        text-align: right;\n",
       "    }\n",
       "</style>\n",
       "<table border=\"1\" class=\"dataframe\">\n",
       "  <thead>\n",
       "    <tr style=\"text-align: right;\">\n",
       "      <th></th>\n",
       "      <th>location</th>\n",
       "      <th>date</th>\n",
       "    </tr>\n",
       "  </thead>\n",
       "  <tbody>\n",
       "    <tr>\n",
       "      <th>7087</th>\n",
       "      <td>China</td>\n",
       "      <td>2021-04-30</td>\n",
       "    </tr>\n",
       "  </tbody>\n",
       "</table>\n",
       "</div>"
      ],
      "text/plain": [
       "     location       date\n",
       "7087    China 2021-04-30"
      ]
     },
     "execution_count": 12,
     "metadata": {},
     "output_type": "execute_result"
    }
   ],
   "source": [
    "new_month = my_month[~my_month['location'].isin(['Asia' , 'Africa' , 'Usa' , 'Europe' , 'World' , 'Upper middle income' , 'High income'])]\n",
    "daily_vacc_max = new_month['daily_vaccinations'].max()\n",
    "new_month[['location' , 'date']].loc[new_month['daily_vaccinations']==daily_vacc_max]"
   ]
  },
  {
   "cell_type": "markdown",
   "metadata": {},
   "source": [
    "# Q4"
   ]
  },
  {
   "cell_type": "code",
   "execution_count": null,
   "metadata": {},
   "outputs": [],
   "source": [
    "my_month['daily_vaccinations'].mean()"
   ]
  },
  {
   "cell_type": "code",
   "execution_count": null,
   "metadata": {},
   "outputs": [],
   "source": [
    "my_month['daily_vaccinations'].median()"
   ]
  },
  {
   "cell_type": "markdown",
   "metadata": {},
   "source": [
    "מי לדעתינו יותר גדול?\n",
    "הממוצע הרבה יותר מהחציון כיוון שיש נתונים מספריים מאד גדולים, והממוצע שלהם גדול."
   ]
  },
  {
   "cell_type": "markdown",
   "metadata": {},
   "source": [
    "# Q5"
   ]
  },
  {
   "cell_type": "code",
   "execution_count": null,
   "metadata": {},
   "outputs": [],
   "source": [
    "my_month_Israel = my_month.loc[my_month ['location'] == 'Israel' , ['people_vaccinated_per_hundred']]\n",
    "my_month_Israel.iloc[:7].mean()"
   ]
  },
  {
   "cell_type": "markdown",
   "metadata": {},
   "source": [
    "# Q6"
   ]
  },
  {
   "cell_type": "code",
   "execution_count": null,
   "metadata": {},
   "outputs": [],
   "source": [
    "new_month = my_month.groupby('location')[['people_vaccinated_per_hundred' , 'date']].max()\n",
    "max_values = new_month.sort_values(by = 'people_vaccinated_per_hundred' , ascending = False)\n",
    "max_values.head(3)"
   ]
  },
  {
   "cell_type": "markdown",
   "metadata": {},
   "source": [
    "# Q7"
   ]
  },
  {
   "cell_type": "code",
   "execution_count": null,
   "metadata": {},
   "outputs": [],
   "source": []
  },
  {
   "cell_type": "markdown",
   "metadata": {},
   "source": [
    "---\n",
    "# GOOD LUCK !!!!\n",
    "---"
   ]
  },
  {
   "cell_type": "code",
   "execution_count": null,
   "metadata": {},
   "outputs": [],
   "source": [
    "# do not type below this line"
   ]
  }
 ],
 "metadata": {
  "kernelspec": {
   "display_name": "Python 3",
   "language": "python",
   "name": "python3"
  },
  "language_info": {
   "codemirror_mode": {
    "name": "ipython",
    "version": 3
   },
   "file_extension": ".py",
   "mimetype": "text/x-python",
   "name": "python",
   "nbconvert_exporter": "python",
   "pygments_lexer": "ipython3",
   "version": "3.7.10"
  }
 },
 "nbformat": 4,
 "nbformat_minor": 4
}
